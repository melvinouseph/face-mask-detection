{
  "nbformat": 4,
  "nbformat_minor": 0,
  "metadata": {
    "kernelspec": {
      "display_name": "Python 3",
      "language": "python",
      "name": "python3"
    },
    "language_info": {
      "codemirror_mode": {
        "name": "ipython",
        "version": 3
      },
      "file_extension": ".py",
      "mimetype": "text/x-python",
      "name": "python",
      "nbconvert_exporter": "python",
      "pygments_lexer": "ipython3",
      "version": "3.7.7"
    },
    "colab": {
      "name": "Preprocessing and CNN training.ipynb",
      "provenance": [],
      "collapsed_sections": []
    }
  },
  "cells": [
    {
      "cell_type": "code",
      "metadata": {
        "id": "vZ9GEYL7W3nT",
        "colab_type": "code",
        "colab": {
          "base_uri": "https://localhost:8080/",
          "height": 72
        },
        "outputId": "50f08b34-651a-445d-96d5-7c73c71afbef"
      },
      "source": [
        "import cv2,os\n",
        "\n",
        "categories=['with mask','without mask']\n",
        "labels=[0,1]\n",
        "\n",
        "label_dict=dict(zip(categories,labels))\n",
        "\n",
        "print(label_dict)\n",
        "print(categories)\n",
        "print(labels)"
      ],
      "execution_count": null,
      "outputs": [
        {
          "output_type": "stream",
          "text": [
            "{'with mask': 0, 'without mask': 1}\n",
            "['with mask', 'without mask']\n",
            "[0, 1]\n"
          ],
          "name": "stdout"
        }
      ]
    },
    {
      "cell_type": "code",
      "metadata": {
        "id": "pZ2LFY0MgXGk",
        "colab_type": "code",
        "colab": {}
      },
      "source": [
        "#zip the folders containing the data, upload them in Colab, and then unzip.\n",
        "!unzip 'with mask.zip'\n",
        "!unzip 'without mask.zip'"
      ],
      "execution_count": null,
      "outputs": []
    },
    {
      "cell_type": "code",
      "metadata": {
        "id": "KOSHA-pOW3nk",
        "colab_type": "code",
        "colab": {}
      },
      "source": [
        "img_size=100\n",
        "data=[]\n",
        "target=[]\n",
        "\n",
        "\n",
        "for category in categories:\n",
        "    folder_path = category\n",
        "    img_names = os.listdir(category)\n",
        "        \n",
        "    for img_name in img_names:\n",
        "        img_path=os.path.join(folder_path,img_name)\n",
        "        img=cv2.imread(img_path)\n",
        "\n",
        "        try:\n",
        "            gray=cv2.cvtColor(img,cv2.COLOR_BGR2GRAY)           \n",
        "            #Coverting the image into gray scale\n",
        "            resized=cv2.resize(gray,(img_size,img_size))\n",
        "            #resizing the gray scale into 100x100, since we need a fixed common size for all the images in the dataset\n",
        "            data.append(resized)\n",
        "            target.append(label_dict[category])\n",
        "            #appending the image and the label(categorized) into the list (dataset)\n",
        "\n",
        "        except Exception as e:\n",
        "            print('Exception:',e)\n",
        "            #if any exception rasied, the exception will be printed here. And pass to the next image"
      ],
      "execution_count": null,
      "outputs": []
    },
    {
      "cell_type": "code",
      "metadata": {
        "id": "nNLkeHiaW3n0",
        "colab_type": "code",
        "colab": {
          "base_uri": "https://localhost:8080/",
          "height": 35
        },
        "outputId": "899e6b6e-8eb5-492c-a5a2-8168fc196489"
      },
      "source": [
        "import numpy as np\n",
        "\n",
        "data=np.array(data)/255.0\n",
        "data=np.reshape(data,(data.shape[0],img_size,img_size,1))\n",
        "target=np.array(target)\n",
        "\n",
        "from keras.utils import np_utils\n",
        "\n",
        "new_target=np_utils.to_categorical(target)"
      ],
      "execution_count": null,
      "outputs": [
        {
          "output_type": "stream",
          "text": [
            "Using TensorFlow backend.\n"
          ],
          "name": "stderr"
        }
      ]
    },
    {
      "cell_type": "code",
      "metadata": {
        "id": "QIP2ORWkW3n-",
        "colab_type": "code",
        "colab": {}
      },
      "source": [
        "np.save('data',data)\n",
        "np.save('target',new_target)"
      ],
      "execution_count": null,
      "outputs": []
    },
    {
      "cell_type": "code",
      "metadata": {
        "id": "vrbmm6d7lTkC",
        "colab_type": "code",
        "colab": {
          "base_uri": "https://localhost:8080/",
          "height": 35
        },
        "outputId": "7cf76b1e-ee39-44f3-fe53-61453700426a"
      },
      "source": [
        "#data.shape\n",
        "new_target.shape"
      ],
      "execution_count": null,
      "outputs": [
        {
          "output_type": "execute_result",
          "data": {
            "text/plain": [
              "(1376, 2)"
            ]
          },
          "metadata": {
            "tags": []
          },
          "execution_count": 23
        }
      ]
    },
    {
      "cell_type": "code",
      "metadata": {
        "id": "AW0kIVXRW3oI",
        "colab_type": "code",
        "colab": {}
      },
      "source": [
        "from keras.models import Sequential\n",
        "from keras.layers import Dense,Activation,Flatten,Dropout\n",
        "from keras.layers import Conv2D,MaxPooling2D\n",
        "from keras.callbacks import ModelCheckpoint\n",
        "\n",
        "model=Sequential()\n",
        "\n",
        "model.add(Conv2D(100,(3,3),input_shape=data.shape[1:]))\n",
        "model.add(Activation('relu'))\n",
        "model.add(MaxPooling2D(pool_size=(2,2)))\n",
        "#The first CNN layer followed by Relu and MaxPooling layers\n",
        "\n",
        "model.add(Conv2D(100,(3,3)))\n",
        "model.add(Activation('relu'))\n",
        "model.add(MaxPooling2D(pool_size=(2,2)))\n",
        "#The second convolution layer followed by Relu and MaxPooling layers\n",
        "\n",
        "model.add(Flatten())\n",
        "model.add(Dropout(0.5))\n",
        "#Flatten layer to stack the output convolutions from second convolution layer\n",
        "model.add(Dense(64,activation='relu'))\n",
        "#Dense layer of 64 neurons\n",
        "model.add(Dense(2,activation='softmax'))\n",
        "#The Final layer with two outputs for two categories\n",
        "\n",
        "model.compile(loss='binary_crossentropy',optimizer='adam',metrics=['accuracy'])"
      ],
      "execution_count": null,
      "outputs": []
    },
    {
      "cell_type": "code",
      "metadata": {
        "id": "lAcbNMGpj5-o",
        "colab_type": "code",
        "colab": {}
      },
      "source": [
        "from sklearn.model_selection import train_test_split\n",
        "\n",
        "train_data,test_data,train_target,test_target=train_test_split(data,new_target,test_size=0.1)"
      ],
      "execution_count": null,
      "outputs": []
    },
    {
      "cell_type": "code",
      "metadata": {
        "id": "Q8kE8ql_j_1f",
        "colab_type": "code",
        "colab": {
          "base_uri": "https://localhost:8080/",
          "height": 790
        },
        "outputId": "a01645ba-67d9-4640-ba34-74215dba1b56"
      },
      "source": [
        "checkpoint = ModelCheckpoint('model-{epoch:03d}.model',monitor='val_loss',verbose=0,save_best_only=True,mode='auto')\n",
        "history=model.fit(train_data,train_target,epochs=20,callbacks=[checkpoint],validation_split=0.2)"
      ],
      "execution_count": null,
      "outputs": [
        {
          "output_type": "stream",
          "text": [
            "Train on 990 samples, validate on 248 samples\n",
            "Epoch 1/20\n",
            "990/990 [==============================] - 45s 46ms/step - loss: 0.7086 - accuracy: 0.5556 - val_loss: 0.6415 - val_accuracy: 0.5444\n",
            "Epoch 2/20\n",
            "990/990 [==============================] - 44s 45ms/step - loss: 0.5698 - accuracy: 0.7000 - val_loss: 0.4825 - val_accuracy: 0.7581\n",
            "Epoch 3/20\n",
            "990/990 [==============================] - 44s 45ms/step - loss: 0.3160 - accuracy: 0.8717 - val_loss: 0.2803 - val_accuracy: 0.9113\n",
            "Epoch 4/20\n",
            "990/990 [==============================] - 44s 45ms/step - loss: 0.1968 - accuracy: 0.9242 - val_loss: 0.2501 - val_accuracy: 0.9234\n",
            "Epoch 5/20\n",
            "990/990 [==============================] - 44s 45ms/step - loss: 0.1391 - accuracy: 0.9404 - val_loss: 0.3206 - val_accuracy: 0.8548\n",
            "Epoch 6/20\n",
            "990/990 [==============================] - 45s 45ms/step - loss: 0.1082 - accuracy: 0.9586 - val_loss: 0.2044 - val_accuracy: 0.9113\n",
            "Epoch 7/20\n",
            "990/990 [==============================] - 44s 45ms/step - loss: 0.0673 - accuracy: 0.9727 - val_loss: 0.2531 - val_accuracy: 0.9194\n",
            "Epoch 8/20\n",
            "990/990 [==============================] - 44s 45ms/step - loss: 0.0575 - accuracy: 0.9818 - val_loss: 0.2066 - val_accuracy: 0.9395\n",
            "Epoch 9/20\n",
            "990/990 [==============================] - 44s 45ms/step - loss: 0.0370 - accuracy: 0.9869 - val_loss: 0.2932 - val_accuracy: 0.9234\n",
            "Epoch 10/20\n",
            "990/990 [==============================] - 44s 45ms/step - loss: 0.0286 - accuracy: 0.9909 - val_loss: 0.2246 - val_accuracy: 0.9315\n",
            "Epoch 11/20\n",
            "990/990 [==============================] - 44s 45ms/step - loss: 0.0271 - accuracy: 0.9949 - val_loss: 0.2472 - val_accuracy: 0.9315\n",
            "Epoch 12/20\n",
            "990/990 [==============================] - 44s 44ms/step - loss: 0.0358 - accuracy: 0.9889 - val_loss: 0.1982 - val_accuracy: 0.9435\n",
            "Epoch 13/20\n",
            "990/990 [==============================] - 44s 44ms/step - loss: 0.0162 - accuracy: 0.9949 - val_loss: 0.2634 - val_accuracy: 0.9355\n",
            "Epoch 14/20\n",
            "990/990 [==============================] - 44s 45ms/step - loss: 0.0178 - accuracy: 0.9929 - val_loss: 0.2587 - val_accuracy: 0.9355\n",
            "Epoch 15/20\n",
            "990/990 [==============================] - 44s 45ms/step - loss: 0.0341 - accuracy: 0.9879 - val_loss: 0.2891 - val_accuracy: 0.9315\n",
            "Epoch 16/20\n",
            "990/990 [==============================] - 44s 44ms/step - loss: 0.0659 - accuracy: 0.9727 - val_loss: 0.2310 - val_accuracy: 0.9274\n",
            "Epoch 17/20\n",
            "990/990 [==============================] - 44s 44ms/step - loss: 0.0325 - accuracy: 0.9899 - val_loss: 0.2069 - val_accuracy: 0.9516\n",
            "Epoch 18/20\n",
            "990/990 [==============================] - 44s 44ms/step - loss: 0.0183 - accuracy: 0.9939 - val_loss: 0.2447 - val_accuracy: 0.9274\n",
            "Epoch 19/20\n",
            "990/990 [==============================] - 44s 44ms/step - loss: 0.0157 - accuracy: 0.9970 - val_loss: 0.3107 - val_accuracy: 0.9274\n",
            "Epoch 20/20\n",
            "990/990 [==============================] - 44s 44ms/step - loss: 0.0221 - accuracy: 0.9949 - val_loss: 0.2792 - val_accuracy: 0.9274\n"
          ],
          "name": "stdout"
        }
      ]
    },
    {
      "cell_type": "code",
      "metadata": {
        "id": "uVubSH72qRQW",
        "colab_type": "code",
        "colab": {
          "base_uri": "https://localhost:8080/",
          "height": 279
        },
        "outputId": "dac18cde-bfba-497f-a059-02669745da92"
      },
      "source": [
        "from matplotlib import pyplot as plt\n",
        "\n",
        "plt.plot(history.history['loss'],'r',label='training loss')\n",
        "plt.plot(history.history['val_loss'],label='validation loss')\n",
        "plt.xlabel('# epochs')\n",
        "plt.ylabel('loss')\n",
        "plt.legend()\n",
        "plt.show()"
      ],
      "execution_count": null,
      "outputs": [
        {
          "output_type": "display_data",
          "data": {
            "image/png": "[encoded data removed]",
            "text/plain": [
              "<Figure size 432x288 with 1 Axes>"
            ]
          },
          "metadata": {
            "tags": [],
            "needs_background": "light"
          }
        }
      ]
    },
    {
      "cell_type": "code",
      "metadata": {
        "id": "t-JTzBSMrPDE",
        "colab_type": "code",
        "colab": {
          "base_uri": "https://localhost:8080/",
          "height": 279
        },
        "outputId": "bb028956-145c-43c4-e22e-37856aa5e028"
      },
      "source": [
        "plt.plot(history.history['accuracy'],'r',label='training accuracy')\n",
        "plt.plot(history.history['val_accuracy'],label='validation accuracy')\n",
        "plt.xlabel('# epochs')\n",
        "plt.ylabel('loss')\n",
        "plt.legend()\n",
        "plt.show()"
      ],
      "execution_count": null,
      "outputs": [
        {
          "output_type": "display_data",
          "data": {
            "image/png": "[encoded data removed]",
            "text/plain": [
              "<Figure size 432x288 with 1 Axes>"
            ]
          },
          "metadata": {
            "tags": [],
            "needs_background": "light"
          }
        }
      ]
    },
    {
      "cell_type": "code",
      "metadata": {
        "id": "GnIuhUKtrW55",
        "colab_type": "code",
        "colab": {
          "base_uri": "https://localhost:8080/",
          "height": 54
        },
        "outputId": "67a03778-5a69-4a16-eac7-abf34e77f353"
      },
      "source": [
        "print(model.evaluate(test_data,test_target))"
      ],
      "execution_count": null,
      "outputs": [
        {
          "output_type": "stream",
          "text": [
            "138/138 [==============================] - 2s 12ms/step\n",
            "[0.28678005731975037, 0.9420289993286133]\n"
          ],
          "name": "stdout"
        }
      ]
    },
    {
      "cell_type": "code",
      "metadata": {
        "id": "6P80I7dp0VXU",
        "colab_type": "code",
        "colab": {}
      },
      "source": [
        "from tensorflow.keras.models import load_model\n",
        "# save entire model to HDF5 \n",
        "model.save(\"network.h5\")"
      ],
      "execution_count": null,
      "outputs": []
    }
  ]
}