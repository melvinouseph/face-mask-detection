{
  "nbformat": 4,
  "nbformat_minor": 0,
  "metadata": {
    "kernelspec": {
      "display_name": "Python 3",
      "language": "python",
      "name": "python3"
    },
    "language_info": {
      "codemirror_mode": {
        "name": "ipython",
        "version": 3
      },
      "file_extension": ".py",
      "mimetype": "text/x-python",
      "name": "python",
      "nbconvert_exporter": "python",
      "pygments_lexer": "ipython3",
      "version": "3.7.7"
    },
    "colab": {
      "name": "Detecting Masks",
      "provenance": []
    }
  },
  "cells": [
    {
      "cell_type": "code",
      "metadata": {
        "id": "MG5AmuVcXIUZ",
        "colab_type": "code",
        "colab": {
          "base_uri": "https://localhost:8080/",
          "height": 35
        },
        "outputId": "3cdd34ed-a09b-4191-b55b-445b2bafcd3a"
      },
      "source": [
        "from keras.models import load_model\n",
        "import cv2\n",
        "import numpy as np"
      ],
      "execution_count": 1,
      "outputs": [
        {
          "output_type": "stream",
          "text": [
            "Using TensorFlow backend.\n"
          ],
          "name": "stderr"
        }
      ]
    },
    {
      "cell_type": "code",
      "metadata": {
        "id": "0SfVWEj8XIUp",
        "colab_type": "code",
        "colab": {}
      },
      "source": [
        "#load the saved model\n",
        "model = load_model('network.h5')\n",
        "\n",
        "face_clsfr=cv2.CascadeClassifier('haarcascade_frontalface_default.xml')\n",
        "\n",
        "#source=cv2.VideoCapture(0)\n",
        "\n",
        "labels_dict={0:'with_mask',1:'without_mask'}\n",
        "color_dict={0:(0,255,0),1:(0,0,255)}"
      ],
      "execution_count": 6,
      "outputs": []
    },
    {
      "cell_type": "code",
      "metadata": {
        "id": "SgQWakghWvVO",
        "colab_type": "code",
        "colab": {}
      },
      "source": [
        "#To take a photo with your webcam, in case you can't run this locally to get a video. \n",
        "#Wear a white mask to test the model :)\n",
        "from IPython.display import display, Javascript\n",
        "from google.colab.output import eval_js\n",
        "from base64 import b64decode\n",
        "\n",
        "def take_photo(filename='photo.jpg', quality=0.8):\n",
        "  js = Javascript('''\n",
        "    async function takePhoto(quality) {\n",
        "      const div = document.createElement('div');\n",
        "      const capture = document.createElement('button');\n",
        "      capture.textContent = 'Capture';\n",
        "      div.appendChild(capture);\n",
        "\n",
        "      const video = document.createElement('video');\n",
        "      video.style.display = 'block';\n",
        "      const stream = await navigator.mediaDevices.getUserMedia({video: true});\n",
        "\n",
        "      document.body.appendChild(div);\n",
        "      div.appendChild(video);\n",
        "      video.srcObject = stream;\n",
        "      await video.play();\n",
        "\n",
        "      // Resize the output to fit the video element.\n",
        "      google.colab.output.setIframeHeight(document.documentElement.scrollHeight, true);\n",
        "\n",
        "      // Wait for Capture to be clicked.\n",
        "      await new Promise((resolve) => capture.onclick = resolve);\n",
        "\n",
        "      const canvas = document.createElement('canvas');\n",
        "      canvas.width = video.videoWidth;\n",
        "      canvas.height = video.videoHeight;\n",
        "      canvas.getContext('2d').drawImage(video, 0, 0);\n",
        "      stream.getVideoTracks()[0].stop();\n",
        "      div.remove();\n",
        "      return canvas.toDataURL('image/jpeg', quality);\n",
        "    }\n",
        "    ''')\n",
        "  display(js)\n",
        "  data = eval_js('takePhoto({})'.format(quality))\n",
        "  binary = b64decode(data.split(',')[1])\n",
        "  with open(filename, 'wb') as f:\n",
        "    f.write(binary)\n",
        "  return filename\n",
        "\n",
        "\n",
        "from IPython.display import Image\n",
        "try:\n",
        "  filename = take_photo()\n",
        "  print('Saved to {}'.format(filename))\n",
        "  \n",
        "  # Show the image which was just taken.\n",
        "  display(Image(filename))\n",
        "except Exception as err:\n",
        "  # Errors will be thrown if the user does not have a webcam or if they do not\n",
        "  # grant the page permission to access it.\n",
        "  print(str(err))"
      ],
      "execution_count": null,
      "outputs": []
    },
    {
      "cell_type": "code",
      "metadata": {
        "id": "gL3iUA7wXIU3",
        "colab_type": "code",
        "colab": {}
      },
      "source": [
        "#while(True):\n",
        "\n",
        "    #ret,img=source.read()\n",
        "from google.colab.patches import cv2_imshow\n",
        "img = cv2.imread('foto.jpg')\n",
        "gray=cv2.cvtColor(img,cv2.COLOR_BGR2GRAY)\n",
        "faces=face_clsfr.detectMultiScale(gray,1.3,5)  \n",
        "\n",
        "for x,y,w,h in faces:\n",
        "    face_img=gray[y:y+w,x:x+w]\n",
        "    resized=cv2.resize(face_img,(100,100))\n",
        "    normalized=resized/255.0\n",
        "    reshaped=np.reshape(normalized,(1,100,100,1))\n",
        "    result=model.predict(reshaped)\n",
        "\n",
        "    label=np.argmax(result,axis=1)[0]\n",
        "      \n",
        "    cv2.rectangle(img,(x,y),(x+w,y+h),color_dict[label],2)\n",
        "    cv2.rectangle(img,(x,y-40),(x+w,y),color_dict[label],-1)\n",
        "    cv2.putText(img, labels_dict[label], (x, y-10),cv2.FONT_HERSHEY_SIMPLEX,0.8,(255,255,255),2)\n",
        "      \n",
        "        \n",
        "    cv2_imshow(img)\n",
        "    key=cv2.waitKey(1)\n",
        "    \n",
        "    #if(key==27):\n",
        "       # break\n",
        "        \n",
        "#cv2.destroyAllWindows()\n",
        "#source.release()"
      ],
      "execution_count": null,
      "outputs": []
    }
  ]
}